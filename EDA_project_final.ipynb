{
 "cells": [
  {
   "cell_type": "markdown",
   "id": "70b35659",
   "metadata": {},
   "source": [
    "MATA Data project code.\n",
    "\n",
    "This code still needs to be cleaned up, but it is all there. \n",
    "\n"
   ]
  },
  {
   "cell_type": "code",
   "execution_count": null,
   "id": "4b3f7e52",
   "metadata": {},
   "outputs": [],
   "source": [
    "import numpy as np"
   ]
  },
  {
   "cell_type": "code",
   "execution_count": null,
   "id": "f8e86461",
   "metadata": {},
   "outputs": [],
   "source": [
    "from sqlalchemy import create_engine\n",
    "from sqlalchemy import inspect\n",
    "import pandas as pd"
   ]
  },
  {
   "cell_type": "code",
   "execution_count": null,
   "id": "b61da98f",
   "metadata": {},
   "outputs": [],
   "source": [
    "engine = create_engine(\"sqlite:////Users/nhuvelle/Documents/mta_data.db\")"
   ]
  },
  {
   "cell_type": "code",
   "execution_count": null,
   "id": "8843070b",
   "metadata": {},
   "outputs": [],
   "source": [
    "insp = inspect(engine)\n",
    "print(insp.get_table_names())"
   ]
  },
  {
   "cell_type": "code",
   "execution_count": null,
   "id": "ea80e8a2",
   "metadata": {},
   "outputs": [],
   "source": [
    "df = pd.read_sql('SELECT * FROM mta_data WHERE (STATION == \"WORLD TRADE CTR\" or STATION == \"TIMES SQ-42 ST\" or STATION == \"WHITEHALL S-FRY\" or STATION == \"81 ST-MUSEUM\") AND DATE LIKE \"%2021\" ORDER BY STATION, DATE', engine)\n",
    "df"
   ]
  },
  {
   "cell_type": "code",
   "execution_count": null,
   "id": "b115fbe4",
   "metadata": {},
   "outputs": [],
   "source": [
    "import datetime\n",
    "df[\"DATE_TIME\"] = pd.to_datetime(df.DATE + \" \" + df.TIME, format=\"%m/%d/%Y %H:%M:%S\")\n",
    "df"
   ]
  },
  {
   "cell_type": "code",
   "execution_count": null,
   "id": "612e2060",
   "metadata": {},
   "outputs": [],
   "source": [
    "df.drop_duplicates(subset=[\"C/A\", \"UNIT\", \"SCP\", \"STATION\", \"DATE_TIME\"], inplace=True)\n",
    "df"
   ]
  },
  {
   "cell_type": "code",
   "execution_count": null,
   "id": "9954f3b7",
   "metadata": {},
   "outputs": [],
   "source": [
    "df = df.drop([\"EXITS\", \"DESC\", \"LINENAME\", \"DIVISION\"], axis=1, errors=\"ignore\")\n",
    "df.head()"
   ]
  },
  {
   "cell_type": "code",
   "execution_count": null,
   "id": "239201ac",
   "metadata": {},
   "outputs": [],
   "source": [
    "df[[\"PREV_DATE_TIME\", \"PREV_ENTRIES\"]] = (df.groupby([\"STATION\"])[[\"DATE_TIME\", \"ENTRIES\"]].shift(1))\n",
    "df.head()"
   ]
  },
  {
   "cell_type": "code",
   "execution_count": null,
   "id": "678e40de",
   "metadata": {},
   "outputs": [],
   "source": [
    "#Drop the rows for the earliest date in the df\n",
    "df.dropna(subset=[\"PREV_DATE_TIME\"], axis=0, inplace=True)\n",
    "df.head()"
   ]
  },
  {
   "cell_type": "code",
   "execution_count": null,
   "id": "67257c15",
   "metadata": {},
   "outputs": [],
   "source": [
    "turnstiles_daily = (df.groupby([\"C/A\", \"UNIT\", \"SCP\", \"STATION\", \"DATE\"],as_index=False).ENTRIES.first())\n",
    "turnstiles_daily.head()"
   ]
  },
  {
   "cell_type": "code",
   "execution_count": null,
   "id": "7ee8c4f2",
   "metadata": {},
   "outputs": [],
   "source": [
    "turnstiles_daily[[\"PREV_DATE\", \"PREV_ENTRIES\"]] = (turnstiles_daily\n",
    "                                                       .groupby([\"C/A\", \"UNIT\", \"SCP\", \"STATION\"])[[\"DATE\", \"ENTRIES\"]]\n",
    "                                                       .shift(1))\n",
    "turnstiles_daily.head()"
   ]
  },
  {
   "cell_type": "code",
   "execution_count": null,
   "id": "ad36de62",
   "metadata": {},
   "outputs": [],
   "source": [
    "#Drop the rows for the earliest date in the df\n",
    "turnstiles_daily.dropna(subset=[\"PREV_DATE\"], axis=0, inplace=True)"
   ]
  },
  {
   "cell_type": "code",
   "execution_count": null,
   "id": "bfa2f780",
   "metadata": {},
   "outputs": [],
   "source": [
    "(turnstiles_daily[\"ENTRIES\"] - turnstiles_daily[\"PREV_ENTRIES\"]).describe()"
   ]
  },
  {
   "cell_type": "code",
   "execution_count": null,
   "id": "d8a325f8",
   "metadata": {},
   "outputs": [],
   "source": [
    "turnstiles_daily[turnstiles_daily[\"ENTRIES\"] < turnstiles_daily[\"PREV_ENTRIES\"]].shape"
   ]
  },
  {
   "cell_type": "code",
   "execution_count": null,
   "id": "c1ee5549",
   "metadata": {},
   "outputs": [],
   "source": [
    "turnstiles_daily[turnstiles_daily[\"ENTRIES\"] < turnstiles_daily[\"PREV_ENTRIES\"]].head()"
   ]
  },
  {
   "cell_type": "code",
   "execution_count": null,
   "id": "82d0fde7",
   "metadata": {},
   "outputs": [],
   "source": [
    "# Let's see how many stations have this problem\n",
    "(turnstiles_daily[turnstiles_daily[\"ENTRIES\"] < turnstiles_daily[\"PREV_ENTRIES\"]]\n",
    "     .groupby([\"C/A\", \"UNIT\", \"SCP\", \"STATION\"])\n",
    "     .size())"
   ]
  },
  {
   "cell_type": "code",
   "execution_count": null,
   "id": "af34f853",
   "metadata": {},
   "outputs": [],
   "source": [
    "def get_daily_counts(row, max_counter):\n",
    "    counter = row[\"ENTRIES\"] - row[\"PREV_ENTRIES\"]\n",
    "    \n",
    "    if counter < 0:\n",
    "        counter = -counter  # adjust for \"reverse\" counter\n",
    "        \n",
    "    if counter > max_counter:\n",
    "        # Maybe counter was reset, so it may make sense to take the minimum\n",
    "        print(f'entries: {row[\"ENTRIES\"]} <-- {row[\"PREV_ENTRIES\"]}')\n",
    "        counter = min(row[\"ENTRIES\"], row[\"PREV_ENTRIES\"])\n",
    "        \n",
    "    if counter > max_counter:\n",
    "        # If we still get a counter that is too big, set to zero\n",
    "        return 0\n",
    "    \n",
    "    return counter\n",
    "\n",
    "turnstiles_daily[\"DAILY_ENTRIES\"] = turnstiles_daily.apply(get_daily_counts, axis=1, max_counter=1000000)"
   ]
  },
  {
   "cell_type": "code",
   "execution_count": null,
   "id": "2c292b1f",
   "metadata": {},
   "outputs": [],
   "source": [
    "turnstiles_daily.describe()"
   ]
  },
  {
   "cell_type": "code",
   "execution_count": null,
   "id": "f05c4087",
   "metadata": {},
   "outputs": [],
   "source": [
    "turnstiles_daily.DAILY_ENTRIES.describe()"
   ]
  },
  {
   "cell_type": "code",
   "execution_count": null,
   "id": "0ebd7cf5",
   "metadata": {},
   "outputs": [],
   "source": [
    "station_daily = turnstiles_daily.groupby([\"C/A\", \"UNIT\", \"STATION\", \"DATE\"])[['DAILY_ENTRIES']].sum().reset_index()\n",
    "station_daily.head()"
   ]
  },
  {
   "cell_type": "code",
   "execution_count": null,
   "id": "a4a6bcf1",
   "metadata": {},
   "outputs": [],
   "source": [
    "station_daily = turnstiles_daily.groupby([\"STATION\", \"DATE\"])[['DAILY_ENTRIES']].sum().reset_index()\n",
    "station_daily.tail()"
   ]
  },
  {
   "cell_type": "code",
   "execution_count": null,
   "id": "b98617de",
   "metadata": {},
   "outputs": [],
   "source": [
    "station_totals = station_daily.groupby('STATION')['DAILY_ENTRIES'].sum() \\\n",
    "    .reset_index() \\\n",
    "    .sort_values('DAILY_ENTRIES', ascending=False)\n",
    "\n",
    "station_totals.head()"
   ]
  },
  {
   "cell_type": "code",
   "execution_count": null,
   "id": "65191b11",
   "metadata": {},
   "outputs": [],
   "source": [
    "import matplotlib.pyplot as plt\n",
    "import seaborn as sns\n",
    "%config InlineBackend.figure_formats = ['svg']  # or retina\n",
    "%matplotlib inline\n",
    "\n",
    "sns.set(context='notebook', \n",
    "    style='whitegrid', \n",
    "    font_scale=1.1)"
   ]
  },
  {
   "cell_type": "code",
   "execution_count": null,
   "id": "9df179a2",
   "metadata": {},
   "outputs": [],
   "source": [
    "station_daily_MUSEUM_av = station_daily[station_daily['STATION'] == '81 ST-MUSEUM'].copy()\n",
    "station_daily_MUSEUM_av.head()"
   ]
  },
  {
   "cell_type": "code",
   "execution_count": null,
   "id": "7c80c80b",
   "metadata": {},
   "outputs": [],
   "source": [
    "plt.figure(figsize=(10, 4))\n",
    "plt.plot(station_daily_MUSEUM_av['DATE'], station_daily_MUSEUM_av['DAILY_ENTRIES'])\n",
    "plt.ylabel('# of Entries')\n",
    "plt.xlabel('Date')\n",
    "#plt.xticks(rotation=45)\n",
    "plt.title('Daily Entries for 81 ST-MUSEUM')"
   ]
  },
  {
   "cell_type": "code",
   "execution_count": null,
   "id": "aabf4e0a",
   "metadata": {},
   "outputs": [],
   "source": [
    "station_daily_MUSEUM_av['DAILY_ENTRIES'].max()"
   ]
  },
  {
   "cell_type": "code",
   "execution_count": null,
   "id": "78a362e1",
   "metadata": {},
   "outputs": [],
   "source": [
    "station_daily_MUSEUM_av[station_daily_MUSEUM_av['DAILY_ENTRIES'] == station_daily_MUSEUM_av['DAILY_ENTRIES'].max()]"
   ]
  },
  {
   "cell_type": "code",
   "execution_count": null,
   "id": "6dc59bcf",
   "metadata": {},
   "outputs": [],
   "source": [
    "station_daily_MUSEUM_av.describe()\n",
    "station_daily_MUSEUM_av.shape"
   ]
  },
  {
   "cell_type": "code",
   "execution_count": null,
   "id": "319036fa",
   "metadata": {},
   "outputs": [],
   "source": [
    "station_daily_MUSEUM_av.drop(111, axis=0, inplace=True)\n",
    "station_daily_MUSEUM_av.describe()"
   ]
  },
  {
   "cell_type": "code",
   "execution_count": null,
   "id": "7147441b",
   "metadata": {},
   "outputs": [],
   "source": [
    "#station_daily_MUSEUM_av.head(31)\n",
    "station_daily_MUSEUM_av.iloc[0:30]['DAILY_ENTRIES'].mean()"
   ]
  },
  {
   "cell_type": "code",
   "execution_count": null,
   "id": "968363a9",
   "metadata": {},
   "outputs": [],
   "source": [
    "station_daily_MUSEUM_av.iloc[30:58]['DAILY_ENTRIES'].mean()"
   ]
  },
  {
   "cell_type": "code",
   "execution_count": null,
   "id": "5fc74c39",
   "metadata": {},
   "outputs": [],
   "source": [
    "station_daily_MUSEUM_av.iloc[58:89]['DAILY_ENTRIES'].mean()"
   ]
  },
  {
   "cell_type": "code",
   "execution_count": null,
   "id": "8e6289e6",
   "metadata": {},
   "outputs": [],
   "source": [
    "station_daily_MUSEUM_av.iloc[89:118]['DAILY_ENTRIES'].mean()"
   ]
  },
  {
   "cell_type": "code",
   "execution_count": null,
   "id": "23088d87",
   "metadata": {},
   "outputs": [],
   "source": [
    "station_daily_MUSEUM_av.iloc[118:149]['DAILY_ENTRIES'].mean()"
   ]
  },
  {
   "cell_type": "code",
   "execution_count": null,
   "id": "dc55843a",
   "metadata": {},
   "outputs": [],
   "source": [
    "station_daily_MUSEUM_av.iloc[149:]['DAILY_ENTRIES'].mean()"
   ]
  },
  {
   "cell_type": "code",
   "execution_count": null,
   "id": "db501c26",
   "metadata": {},
   "outputs": [],
   "source": [
    "months = ['Jan','Feb','Mar','Apr','May','June']\n",
    "museum_months = [2272,2309,2713,3199,3758,4221]\n",
    "plt.bar(months, museum_months)\n",
    "plt.ylabel('Average Daily Entries',family = 'fantasy',color='red')\n",
    "plt.title('Daily Entries for 81 ST-MUSEUM', fontweight = 'bold');\n"
   ]
  },
  {
   "cell_type": "code",
   "execution_count": null,
   "id": "82afbe64",
   "metadata": {
    "scrolled": false
   },
   "outputs": [],
   "source": [
    "plt.figure(figsize=(10, 4))\n",
    "plt.plot(station_daily_MUSEUM_av['DATE'], station_daily_MUSEUM_av['DAILY_ENTRIES'])\n",
    "plt.ylabel('# of Daily Entries',family = 'fantasy', color='red')\n",
    "#plt.xlabel('Date')\n",
    "x_ticks = np.linspace(0, 150, 6)\n",
    "months = ['Jan','Feb','Mar','Apr','May','Jun']\n",
    "plt.xticks(x_ticks, months, fontsize = '20', family = 'fantasy',color='red')\n",
    "plt.title('Daily Entries for 81 ST-MUSEUM', fontweight = 'bold')\n",
    "#plt.grid(b=None)"
   ]
  },
  {
   "cell_type": "code",
   "execution_count": null,
   "id": "670298d5",
   "metadata": {},
   "outputs": [],
   "source": [
    "plt.figure(figsize=(10, 4))\n",
    "plt.plot(station_daily_MUSEUM_av['DATE'], station_daily_MUSEUM_av['DAILY_ENTRIES'])\n",
    "plt.ylabel('# of Entries')\n",
    "plt.xlabel('Date')\n",
    "x_ticks = np.linspace(0, 150, 6)\n",
    "months = ['Jan','Feb','Mar','Apr','May','Jun']\n",
    "plt.xticks(x_ticks, months, fontsize = '20', family = 'fantasy',color='red')\n",
    "#plt.xticks(rotation=45)\n",
    "plt.title('Daily Entries for 81 ST-MUSEUM')"
   ]
  },
  {
   "cell_type": "code",
   "execution_count": null,
   "id": "e1cedc54",
   "metadata": {},
   "outputs": [],
   "source": [
    "\n"
   ]
  },
  {
   "cell_type": "code",
   "execution_count": null,
   "id": "d085dd01",
   "metadata": {},
   "outputs": [],
   "source": [
    "station_daily_42_ST_av = station_daily[station_daily['STATION'] == 'TIMES SQ-42 ST'].copy()\n",
    "station_daily_42_ST_av.head()"
   ]
  },
  {
   "cell_type": "code",
   "execution_count": null,
   "id": "cf4e0be7",
   "metadata": {},
   "outputs": [],
   "source": [
    "plt.figure(figsize=(10, 4))\n",
    "plt.plot(station_daily_42_ST_av['DATE'], station_daily_42_ST_av['DAILY_ENTRIES'])\n",
    "plt.ylabel('# of Entries')\n",
    "plt.xlabel('Date')\n",
    "#plt.xticks(rotation=45)\n",
    "plt.title('Daily Entries for TIMES SQ 42-ST Station')"
   ]
  },
  {
   "cell_type": "code",
   "execution_count": null,
   "id": "0c27db6c",
   "metadata": {},
   "outputs": [],
   "source": [
    "station_daily_42_ST_av[station_daily_42_ST_av['DAILY_ENTRIES'] == station_daily_42_ST_av['DAILY_ENTRIES'].max()]"
   ]
  },
  {
   "cell_type": "code",
   "execution_count": null,
   "id": "41fd594a",
   "metadata": {},
   "outputs": [],
   "source": [
    "station_daily_42_ST_av.drop(266, axis=0, inplace=True)\n",
    "station_daily_42_ST_av.describe()"
   ]
  },
  {
   "cell_type": "code",
   "execution_count": null,
   "id": "69cca17a",
   "metadata": {},
   "outputs": [],
   "source": [
    "station_daily_42_ST_av[station_daily_42_ST_av['DAILY_ENTRIES'] == station_daily_42_ST_av['DAILY_ENTRIES'].max()]"
   ]
  },
  {
   "cell_type": "code",
   "execution_count": null,
   "id": "eed2b399",
   "metadata": {},
   "outputs": [],
   "source": []
  },
  {
   "cell_type": "code",
   "execution_count": null,
   "id": "4dd408d6",
   "metadata": {},
   "outputs": [],
   "source": [
    "station_daily_42_ST_av.describe()"
   ]
  },
  {
   "cell_type": "code",
   "execution_count": null,
   "id": "af8ba43d",
   "metadata": {},
   "outputs": [],
   "source": [
    "station_daily_42_ST_av[station_daily_42_ST_av['DAILY_ENTRIES'] == station_daily_42_ST_av['DAILY_ENTRIES'].max()]"
   ]
  },
  {
   "cell_type": "code",
   "execution_count": null,
   "id": "5ea68cbf",
   "metadata": {},
   "outputs": [],
   "source": [
    "station_daily_42_ST_av.drop(196, axis=0, inplace=True)\n",
    "station_daily_42_ST_av.describe()"
   ]
  },
  {
   "cell_type": "code",
   "execution_count": null,
   "id": "b257b8df",
   "metadata": {},
   "outputs": [],
   "source": [
    "plt.figure(figsize=(10, 4))\n",
    "plt.plot(station_daily_42_ST_av['DATE'], station_daily_42_ST_av['DAILY_ENTRIES'])\n",
    "plt.ylabel('# of Entries')\n",
    "plt.xlabel('Date')\n",
    "#plt.xticks(rotation=45)\n",
    "plt.title('Daily Entries for TIMES SQ 42-ST Station')"
   ]
  },
  {
   "cell_type": "code",
   "execution_count": null,
   "id": "707aa3ca",
   "metadata": {},
   "outputs": [],
   "source": [
    "station_daily_42_ST_av[station_daily_42_ST_av['DAILY_ENTRIES'] == station_daily_42_ST_av['DAILY_ENTRIES'].max()]"
   ]
  },
  {
   "cell_type": "code",
   "execution_count": null,
   "id": "7fecd32d",
   "metadata": {},
   "outputs": [],
   "source": [
    "station_daily_42_ST_av.drop(225, axis=0, inplace=True)\n",
    "station_daily_42_ST_av.describe()"
   ]
  },
  {
   "cell_type": "code",
   "execution_count": null,
   "id": "eee31f91",
   "metadata": {},
   "outputs": [],
   "source": [
    "plt.figure(figsize=(10, 4))\n",
    "plt.plot(station_daily_42_ST_av['DATE'], station_daily_42_ST_av['DAILY_ENTRIES'])\n",
    "plt.ylabel('# of Entries')\n",
    "plt.xlabel('Date')\n",
    "#plt.xticks(rotation=45)\n",
    "plt.title('Daily Entries for TIMES SQ 42-ST Station')"
   ]
  },
  {
   "cell_type": "code",
   "execution_count": null,
   "id": "1ebc5c3f",
   "metadata": {},
   "outputs": [],
   "source": []
  },
  {
   "cell_type": "code",
   "execution_count": null,
   "id": "0fe482a2",
   "metadata": {},
   "outputs": [],
   "source": [
    "station_daily_42_ST_av[station_daily_42_ST_av['DAILY_ENTRIES'] == station_daily_42_ST_av['DAILY_ENTRIES'].max()]"
   ]
  },
  {
   "cell_type": "code",
   "execution_count": null,
   "id": "2d1cff15",
   "metadata": {},
   "outputs": [],
   "source": [
    "station_daily_42_ST_av.drop(265, axis=0, inplace=True)\n",
    "station_daily_42_ST_av.describe()"
   ]
  },
  {
   "cell_type": "code",
   "execution_count": null,
   "id": "40a6ac76",
   "metadata": {},
   "outputs": [],
   "source": [
    "station_daily_42_ST_av.iloc[0:30].mean()"
   ]
  },
  {
   "cell_type": "code",
   "execution_count": null,
   "id": "56549e2a",
   "metadata": {},
   "outputs": [],
   "source": [
    "station_daily_42_ST_av.iloc[30:56].mean()"
   ]
  },
  {
   "cell_type": "code",
   "execution_count": null,
   "id": "4e48223e",
   "metadata": {},
   "outputs": [],
   "source": [
    "station_daily_42_ST_av.iloc[56:86].mean()"
   ]
  },
  {
   "cell_type": "code",
   "execution_count": null,
   "id": "0ea08e38",
   "metadata": {},
   "outputs": [],
   "source": [
    "station_daily_42_ST_av.iloc[86:114].mean()"
   ]
  },
  {
   "cell_type": "code",
   "execution_count": null,
   "id": "ee34c7a6",
   "metadata": {},
   "outputs": [],
   "source": [
    "station_daily_42_ST_av.iloc[114:145].mean()"
   ]
  },
  {
   "cell_type": "code",
   "execution_count": null,
   "id": "e53203a0",
   "metadata": {},
   "outputs": [],
   "source": [
    "station_daily_42_ST_av.iloc[145:].mean()"
   ]
  },
  {
   "cell_type": "code",
   "execution_count": null,
   "id": "8926320d",
   "metadata": {},
   "outputs": [],
   "source": [
    "plt.figure(figsize=(9, 4))\n",
    "plt.plot(station_daily_42_ST_av['DATE'], station_daily_42_ST_av['DAILY_ENTRIES'])\n",
    "plt.ylabel('# of Entries',family = 'fantasy',color='red')\n",
    "plt.xlabel('Date')\n",
    "x_ticks = np.linspace(0, 150, 6)\n",
    "months = ['Jan','Feb','Mar','Apr','May','Jun']\n",
    "plt.xticks(x_ticks, months, fontsize = '20', family = 'fantasy',color='red')\n",
    "#plt.xticks(rotation=45)\n",
    "plt.title('Daily Entries for TIMES SQ 42-ST Station', fontweight = 'bold')"
   ]
  },
  {
   "cell_type": "code",
   "execution_count": null,
   "id": "ab3ca1e0",
   "metadata": {},
   "outputs": [],
   "source": [
    "months2 = ['Jan','Feb','Mar','Apr','May','June']\n",
    "museum_months2 = [13363,12658,15772,17473,19443,22156]\n",
    "plt.ylabel('Average Daily Entries',family = 'fantasy',color='red')\n",
    "plt.bar(months2, museum_months2)\n",
    "plt.title('Daily Entries for TIMES SQ 42-ST Station', fontweight = 'bold')"
   ]
  },
  {
   "cell_type": "code",
   "execution_count": null,
   "id": "bff25551",
   "metadata": {},
   "outputs": [],
   "source": [
    "station_daily_WHITEHALL_av.iloc[0:30].mean()"
   ]
  },
  {
   "cell_type": "code",
   "execution_count": null,
   "id": "a265326e",
   "metadata": {},
   "outputs": [],
   "source": [
    "station_daily_WHITEHALL_av.iloc[30:58].mean()"
   ]
  },
  {
   "cell_type": "code",
   "execution_count": null,
   "id": "94937982",
   "metadata": {},
   "outputs": [],
   "source": [
    "station_daily_WHITEHALL_av.iloc[58:89].mean()"
   ]
  },
  {
   "cell_type": "code",
   "execution_count": null,
   "id": "27aa86fd",
   "metadata": {},
   "outputs": [],
   "source": [
    "station_daily_WHITEHALL_av.iloc[89:119].mean()"
   ]
  },
  {
   "cell_type": "code",
   "execution_count": null,
   "id": "1f55cc9f",
   "metadata": {},
   "outputs": [],
   "source": [
    "station_daily_WHITEHALL_av.iloc[119:150].mean()"
   ]
  },
  {
   "cell_type": "code",
   "execution_count": null,
   "id": "293b782a",
   "metadata": {},
   "outputs": [],
   "source": [
    "station_daily_WHITEHALL_av.iloc[150:].mean()"
   ]
  },
  {
   "cell_type": "code",
   "execution_count": null,
   "id": "b011a594",
   "metadata": {},
   "outputs": [],
   "source": [
    "months3 = ['Jan','Feb','Mar','Apr','May','June']\n",
    "museum_months3 = [2531,2529,3017,3354,3788,4294]\n",
    "plt.bar(months3, museum_months3)\n",
    "plt.ylabel('Average Daily Entries',family = 'fantasy',color='red')\n",
    "plt.title('Daily Entries for WHITEHALL S-FRY', fontweight = 'bold');"
   ]
  },
  {
   "cell_type": "code",
   "execution_count": null,
   "id": "ab4d6eaa",
   "metadata": {},
   "outputs": [],
   "source": [
    "station_daily_WHITEHALL_av = station_daily[station_daily['STATION'] == 'WHITEHALL S-FRY'].copy()\n",
    "station_daily_WHITEHALL_av.head()"
   ]
  },
  {
   "cell_type": "code",
   "execution_count": null,
   "id": "30d62f99",
   "metadata": {},
   "outputs": [],
   "source": [
    "plt.figure(figsize=(10, 4))\n",
    "plt.plot(station_daily_WHITEHALL_av['DATE'], station_daily_WHITEHALL_av['DAILY_ENTRIES'])\n",
    "plt.ylabel('# of Entries',family = 'fantasy',color='red')\n",
    "x_ticks = np.linspace(0, 150, 6)\n",
    "months = ['Jan','Feb','Mar','Apr','May','Jun']\n",
    "plt.xticks(x_ticks, months, fontsize = '20', family = 'fantasy',color='red')\n",
    "#plt.xticks(rotation=45)\n",
    "plt.title('Daily Entries for WHITEHALL S-FRY Station', fontweight='bold')"
   ]
  },
  {
   "cell_type": "code",
   "execution_count": null,
   "id": "34f74e6d",
   "metadata": {},
   "outputs": [],
   "source": []
  },
  {
   "cell_type": "code",
   "execution_count": null,
   "id": "c39c6265",
   "metadata": {},
   "outputs": [],
   "source": []
  },
  {
   "cell_type": "code",
   "execution_count": null,
   "id": "165ed21f",
   "metadata": {},
   "outputs": [],
   "source": []
  },
  {
   "cell_type": "code",
   "execution_count": null,
   "id": "f414a0fe",
   "metadata": {},
   "outputs": [],
   "source": []
  },
  {
   "cell_type": "code",
   "execution_count": null,
   "id": "0548b4ae",
   "metadata": {},
   "outputs": [],
   "source": [
    "station_daily_WORLD_TRADE_av = station_daily[station_daily['STATION'] == 'WORLD TRADE CTR'].copy()\n",
    "station_daily_WORLD_TRADE_av.head()"
   ]
  },
  {
   "cell_type": "code",
   "execution_count": null,
   "id": "96cf5c98",
   "metadata": {},
   "outputs": [],
   "source": [
    "plt.figure(figsize=(10, 4))\n",
    "plt.plot(station_daily_WORLD_TRADE_av['DATE'], station_daily_WORLD_TRADE_av['DAILY_ENTRIES'])\n",
    "plt.ylabel('# of Entries')\n",
    "plt.xlabel('Date')\n",
    "#plt.xticks(rotation=45)\n",
    "plt.title('Daily Entries for WORLD TRADE CTR Station')"
   ]
  },
  {
   "cell_type": "code",
   "execution_count": null,
   "id": "8c831e33",
   "metadata": {},
   "outputs": [],
   "source": [
    "station_daily_WORLD_TRADE_av[station_daily_WORLD_TRADE_av['DAILY_ENTRIES'] == station_daily_WORLD_TRADE_av['DAILY_ENTRIES'].max()]"
   ]
  },
  {
   "cell_type": "code",
   "execution_count": null,
   "id": "9eecda0f",
   "metadata": {},
   "outputs": [],
   "source": [
    "station_daily_WORLD_TRADE_av.drop(529, axis=0, inplace=True)\n",
    "station_daily_WORLD_TRADE_av.describe()"
   ]
  },
  {
   "cell_type": "code",
   "execution_count": null,
   "id": "17b4126f",
   "metadata": {},
   "outputs": [],
   "source": [
    "plt.figure(figsize=(10, 4))\n",
    "plt.plot(station_daily_WORLD_TRADE_av['DATE'], station_daily_WORLD_TRADE_av['DAILY_ENTRIES'])\n",
    "plt.ylabel('# of Entries',family = 'fantasy',color='red')\n",
    "x_ticks = np.linspace(0, 150, 6)\n",
    "months = ['Jan','Feb','Mar','Apr','May','Jun']\n",
    "plt.xticks(x_ticks, months, fontsize = '20', family = 'fantasy',color='red')\n",
    "plt.title('Daily Entries for WORLD TRADE CTR Station', fontweight='bold');"
   ]
  },
  {
   "cell_type": "code",
   "execution_count": null,
   "id": "0cb93b24",
   "metadata": {},
   "outputs": [],
   "source": [
    "station_daily_WORLD_TRADE_av.iloc[0:30].mean()"
   ]
  },
  {
   "cell_type": "code",
   "execution_count": null,
   "id": "a0ab516b",
   "metadata": {},
   "outputs": [],
   "source": [
    "station_daily_WORLD_TRADE_av.iloc[30:57].mean()"
   ]
  },
  {
   "cell_type": "code",
   "execution_count": null,
   "id": "01cbe168",
   "metadata": {},
   "outputs": [],
   "source": []
  },
  {
   "cell_type": "code",
   "execution_count": null,
   "id": "c88d39bb",
   "metadata": {},
   "outputs": [],
   "source": []
  },
  {
   "cell_type": "code",
   "execution_count": null,
   "id": "7eb95678",
   "metadata": {},
   "outputs": [],
   "source": []
  },
  {
   "cell_type": "code",
   "execution_count": null,
   "id": "b825d3f4",
   "metadata": {},
   "outputs": [],
   "source": []
  },
  {
   "cell_type": "code",
   "execution_count": null,
   "id": "62a20434",
   "metadata": {},
   "outputs": [],
   "source": []
  },
  {
   "cell_type": "code",
   "execution_count": null,
   "id": "d99910fa",
   "metadata": {},
   "outputs": [],
   "source": []
  },
  {
   "cell_type": "code",
   "execution_count": null,
   "id": "e146709e",
   "metadata": {},
   "outputs": [],
   "source": [
    "plt.figure(figsize=(10, 4))\n",
    "plt.plot(station_daily_WORLD_TRADE_av['DATE'], station_daily_WORLD_TRADE_av['DAILY_ENTRIES'])\n",
    "plt.ylabel('# of Entries')\n",
    "plt.xlabel('Date')\n",
    "#plt.xticks(rotation=45)\n",
    "plt.title('Daily Entries for WORLD TRADE CTR Station')"
   ]
  },
  {
   "cell_type": "code",
   "execution_count": null,
   "id": "91ddc3ed",
   "metadata": {},
   "outputs": [],
   "source": [
    "station_daily_WORLD_TRADE_av.iloc[0:30].mean()"
   ]
  },
  {
   "cell_type": "code",
   "execution_count": null,
   "id": "b67b453d",
   "metadata": {},
   "outputs": [],
   "source": [
    "station_daily_WORLD_TRADE_av.iloc[30:57].mean()"
   ]
  },
  {
   "cell_type": "code",
   "execution_count": null,
   "id": "3d7f26a7",
   "metadata": {},
   "outputs": [],
   "source": [
    "station_daily_WORLD_TRADE_av.iloc[57:88].mean()"
   ]
  },
  {
   "cell_type": "code",
   "execution_count": null,
   "id": "2a3b7df5",
   "metadata": {},
   "outputs": [],
   "source": [
    "station_daily_WORLD_TRADE_av.iloc[88:118].mean()"
   ]
  },
  {
   "cell_type": "code",
   "execution_count": null,
   "id": "b34de4cb",
   "metadata": {},
   "outputs": [],
   "source": [
    "station_daily_WORLD_TRADE_av.iloc[118:149].mean()"
   ]
  },
  {
   "cell_type": "code",
   "execution_count": null,
   "id": "6bb7321e",
   "metadata": {},
   "outputs": [],
   "source": [
    "station_daily_WORLD_TRADE_av.iloc[149:].mean()"
   ]
  },
  {
   "cell_type": "code",
   "execution_count": null,
   "id": "4350247a",
   "metadata": {},
   "outputs": [],
   "source": [
    "months4 = ['Jan','Feb','Mar','Apr','May','June']\n",
    "museum_months4 = [1608,1492,1873,2317,2810,3402]\n",
    "plt.bar(months4, museum_months4)\n",
    "plt.ylabel('Average Daily Entries',family = 'fantasy',color='red')\n",
    "plt.title('Daily Entries for WORLD TRADE CTR', fontweight = 'bold');"
   ]
  },
  {
   "cell_type": "code",
   "execution_count": null,
   "id": "0b9541b3",
   "metadata": {},
   "outputs": [],
   "source": []
  }
 ],
 "metadata": {
  "kernelspec": {
   "display_name": "Python [conda env:root]",
   "language": "python",
   "name": "conda-root-py"
  },
  "language_info": {
   "codemirror_mode": {
    "name": "ipython",
    "version": 3
   },
   "file_extension": ".py",
   "mimetype": "text/x-python",
   "name": "python",
   "nbconvert_exporter": "python",
   "pygments_lexer": "ipython3",
   "version": "3.8.8"
  }
 },
 "nbformat": 4,
 "nbformat_minor": 5
}
